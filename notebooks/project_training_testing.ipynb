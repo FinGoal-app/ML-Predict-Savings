{
 "cells": [
  {
   "cell_type": "code",
   "execution_count": 1,
   "metadata": {
    "id": "LAmq-KxyVTPc"
   },
   "outputs": [],
   "source": [
    "import numpy as np\n",
    "import pandas as pd\n",
    "import tensorflow as tf\n",
    "from tensorflow.keras.models import Sequential\n",
    "from tensorflow.keras.layers import Dense\n",
    "from sklearn.model_selection import train_test_split\n",
    "from sklearn.preprocessing import MinMaxScaler"
   ]
  },
  {
   "cell_type": "code",
   "execution_count": 4,
   "metadata": {
    "colab": {
     "base_uri": "https://localhost:8080/",
     "height": 226
    },
    "id": "aiLT3HQYiHUf",
    "outputId": "407d9f9c-e8c1-40f3-f805-2300d91eb3e4"
   },
   "outputs": [
    {
     "data": {
      "text/html": [
       "<div>\n",
       "<style scoped>\n",
       "    .dataframe tbody tr th:only-of-type {\n",
       "        vertical-align: middle;\n",
       "    }\n",
       "\n",
       "    .dataframe tbody tr th {\n",
       "        vertical-align: top;\n",
       "    }\n",
       "\n",
       "    .dataframe thead th {\n",
       "        text-align: right;\n",
       "    }\n",
       "</style>\n",
       "<table border=\"1\" class=\"dataframe\">\n",
       "  <thead>\n",
       "    <tr style=\"text-align: right;\">\n",
       "      <th></th>\n",
       "      <th>income</th>\n",
       "      <th>expenses_listrik</th>\n",
       "      <th>expenses_transport</th>\n",
       "      <th>expenses_makanan</th>\n",
       "      <th>goal_amount</th>\n",
       "      <th>goal_duration</th>\n",
       "      <th>remaining_time</th>\n",
       "      <th>goal_achievable</th>\n",
       "      <th>current_savings</th>\n",
       "    </tr>\n",
       "  </thead>\n",
       "  <tbody>\n",
       "    <tr>\n",
       "      <th>0</th>\n",
       "      <td>10000000</td>\n",
       "      <td>1000000</td>\n",
       "      <td>1000000</td>\n",
       "      <td>2500000</td>\n",
       "      <td>20000000</td>\n",
       "      <td>9</td>\n",
       "      <td>8</td>\n",
       "      <td>1</td>\n",
       "      <td>1800000</td>\n",
       "    </tr>\n",
       "    <tr>\n",
       "      <th>1</th>\n",
       "      <td>12000000</td>\n",
       "      <td>800000</td>\n",
       "      <td>500000</td>\n",
       "      <td>3000000</td>\n",
       "      <td>30000000</td>\n",
       "      <td>3</td>\n",
       "      <td>2</td>\n",
       "      <td>0</td>\n",
       "      <td>5700000</td>\n",
       "    </tr>\n",
       "    <tr>\n",
       "      <th>2</th>\n",
       "      <td>8000000</td>\n",
       "      <td>700000</td>\n",
       "      <td>600000</td>\n",
       "      <td>1500000</td>\n",
       "      <td>20000000</td>\n",
       "      <td>9</td>\n",
       "      <td>7</td>\n",
       "      <td>1</td>\n",
       "      <td>2900000</td>\n",
       "    </tr>\n",
       "    <tr>\n",
       "      <th>3</th>\n",
       "      <td>12000000</td>\n",
       "      <td>500000</td>\n",
       "      <td>1200000</td>\n",
       "      <td>2500000</td>\n",
       "      <td>10000000</td>\n",
       "      <td>9</td>\n",
       "      <td>8</td>\n",
       "      <td>1</td>\n",
       "      <td>3500000</td>\n",
       "    </tr>\n",
       "    <tr>\n",
       "      <th>4</th>\n",
       "      <td>12000000</td>\n",
       "      <td>700000</td>\n",
       "      <td>800000</td>\n",
       "      <td>1500000</td>\n",
       "      <td>25000000</td>\n",
       "      <td>12</td>\n",
       "      <td>12</td>\n",
       "      <td>1</td>\n",
       "      <td>900000</td>\n",
       "    </tr>\n",
       "  </tbody>\n",
       "</table>\n",
       "</div>"
      ],
      "text/plain": [
       "     income  expenses_listrik  expenses_transport  expenses_makanan  \\\n",
       "0  10000000           1000000             1000000           2500000   \n",
       "1  12000000            800000              500000           3000000   \n",
       "2   8000000            700000              600000           1500000   \n",
       "3  12000000            500000             1200000           2500000   \n",
       "4  12000000            700000              800000           1500000   \n",
       "\n",
       "   goal_amount  goal_duration  remaining_time  goal_achievable  \\\n",
       "0     20000000              9               8                1   \n",
       "1     30000000              3               2                0   \n",
       "2     20000000              9               7                1   \n",
       "3     10000000              9               8                1   \n",
       "4     25000000             12              12                1   \n",
       "\n",
       "   current_savings  \n",
       "0          1800000  \n",
       "1          5700000  \n",
       "2          2900000  \n",
       "3          3500000  \n",
       "4           900000  "
      ]
     },
     "execution_count": 4,
     "metadata": {},
     "output_type": "execute_result"
    }
   ],
   "source": [
    "filepath = 'financial_goal_data.csv'\n",
    "dataset = pd.read_csv(filepath)\n",
    "dataset.head()"
   ]
  },
  {
   "cell_type": "code",
   "execution_count": 6,
   "metadata": {
    "id": "dc2WEdhub2Df"
   },
   "outputs": [],
   "source": [
    "def create_training_data(filepath):\n",
    "  #read csv file\n",
    "  dataset = pd.read_csv(\"financial_goal_data.csv\")\n",
    "\n",
    "  # Pastikan goal_duration tidak nol\n",
    "  dataset = dataset[dataset['goal_duration'] > 0]\n",
    "\n",
    "  #add monthly_target_savings as new feature\n",
    "  dataset['monthly_target_savings'] = (dataset['goal_amount'] - dataset['current_savings']) / dataset['goal_duration']\n",
    "\n",
    "  #define feature and target\n",
    "  features = dataset[['goal_amount', 'goal_duration', 'current_savings']].values\n",
    "  targets = dataset['monthly_target_savings']\n",
    "\n",
    "  return features, targets"
   ]
  },
  {
   "cell_type": "code",
   "execution_count": 7,
   "metadata": {
    "colab": {
     "base_uri": "https://localhost:8080/"
    },
    "id": "IUZCmCkDjezH",
    "outputId": "99e1120b-90fe-4974-969d-8ae38ebed404"
   },
   "outputs": [
    {
     "name": "stdout",
     "output_type": "stream",
     "text": [
      "Features X :  [[20000000        9  1800000]\n",
      " [30000000        3  5700000]\n",
      " [20000000        9  2900000]\n",
      " [10000000        9  3500000]\n",
      " [25000000       12   900000]]\n",
      "\n",
      "Targets Y :  0    2.022222e+06\n",
      "1    8.100000e+06\n",
      "2    1.900000e+06\n",
      "3    7.222222e+05\n",
      "4    2.008333e+06\n",
      "Name: monthly_target_savings, dtype: float64\n",
      "\n",
      "Features X shape : (10000, 3)\n",
      "\n",
      "Targets Y shape : (10000,)\n"
     ]
    }
   ],
   "source": [
    "#generate training data\n",
    "X, y = create_training_data(filepath)\n",
    "print('Features X : ', X[:5])\n",
    "print('\\nTargets Y : ', y[:5])\n",
    "print(f'\\nFeatures X shape : {X.shape}')\n",
    "print(f'\\nTargets Y shape : {y.shape}')"
   ]
  },
  {
   "cell_type": "code",
   "execution_count": 8,
   "metadata": {
    "id": "k84AYJitxeXQ"
   },
   "outputs": [],
   "source": [
    "#split the dataset into training and testing sets\n",
    "X_train, X_test, y_train, y_test = train_test_split(X, y, test_size=0.2, random_state=42)"
   ]
  },
  {
   "cell_type": "code",
   "execution_count": 9,
   "metadata": {
    "id": "qsFOPnJZygX6"
   },
   "outputs": [],
   "source": [
    "#normalize the features\n",
    "scaler_X = MinMaxScaler()\n",
    "X_train = scaler_X.fit_transform(X_train)\n",
    "X_test = scaler_X.transform(X_test)"
   ]
  },
  {
   "cell_type": "code",
   "execution_count": 10,
   "metadata": {
    "id": "D8y0V6viM1VV"
   },
   "outputs": [],
   "source": [
    "scaler_y = MinMaxScaler(feature_range=(0, 1))\n",
    "y_train = scaler_y.fit_transform(y_train.to_numpy().reshape(-1, 1))\n",
    "y_test = scaler_y.transform(y_test.to_numpy().reshape(-1, 1))"
   ]
  },
  {
   "cell_type": "code",
   "execution_count": 11,
   "metadata": {
    "id": "tAnh2Jh1lkBa"
   },
   "outputs": [],
   "source": [
    "def define_and_compile_model():\n",
    "  #define DNN model\n",
    "  model = tf.keras.Sequential([\n",
    "      #input layers with number of features\n",
    "      tf.keras.layers.Input(shape=(3,)),\n",
    "      #hidden layers\n",
    "      tf.keras.layers.Dense(units=64, activation='relu'),\n",
    "      tf.keras.layers.Dense(units=32, activation='relu'),\n",
    "      tf.keras.layers.Dense(units=16, activation='relu'),\n",
    "      #output layer\n",
    "      tf.keras.layers.Dense(units=1, activation='linear') #predict monthly savings target\n",
    "  ])\n",
    "\n",
    "  lr_schedule = tf.keras.optimizers.schedules.ExponentialDecay(\n",
    "      initial_learning_rate=0.01,\n",
    "      decay_steps=1000,\n",
    "      decay_rate=0.9\n",
    "  )\n",
    "  #compile model\n",
    "  model.compile(\n",
    "      optimizer=tf.keras.optimizers.Adam(learning_rate=lr_schedule),\n",
    "      loss='mse',\n",
    "      metrics=['mae']\n",
    "  )\n",
    "\n",
    "  return model"
   ]
  },
  {
   "cell_type": "code",
   "execution_count": 12,
   "metadata": {
    "id": "awk1Z3QuqBeL"
   },
   "outputs": [],
   "source": [
    "#defining the callback\n",
    "class EarlyStopCallback(tf.keras.callbacks.Callback):\n",
    "  def __init__(self, monitor='mae', threshold=1.1612e-04, patience=50):\n",
    "    super(EarlyStopCallback, self).__init__()\n",
    "    self.monitor = monitor\n",
    "    self.threshold = threshold\n",
    "    self.patience = patience\n",
    "    self.wait = 0\n",
    "    self.best_loss = float('inf')\n",
    "\n",
    "  def on_epoch_end(self, epoch, logs=None):\n",
    "    current_loss = logs.get(self.monitor)\n",
    "    if current_loss is not None:\n",
    "      if current_loss < self.best_loss:\n",
    "        self.best_loss = current_loss\n",
    "        self.wait = 0\n",
    "      else:\n",
    "        self.wait += 1\n",
    "\n",
    "      if self.best_loss <= self.threshold:\n",
    "        print(f\"\\nReached target {self.monitor} <= {self.threshold:.0f} at epoch {epoch+1}, stopping training\")\n",
    "        self.model.stop_training = True\n",
    "      elif self.wait >= self.patience:\n",
    "        print(f\"\\nNo improvement in {self.monitor} for {self.patience} consecutive epochs. Stopping Training\")\n",
    "        self.model.stop_training = True"
   ]
  },
  {
   "cell_type": "code",
   "execution_count": 13,
   "metadata": {
    "colab": {
     "base_uri": "https://localhost:8080/"
    },
    "id": "vxli7ivSq1Td",
    "outputId": "22721bc8-dad9-4215-cb1c-cb5ae3b35977"
   },
   "outputs": [
    {
     "name": "stdout",
     "output_type": "stream",
     "text": [
      "Epoch 1/500\n",
      "\u001b[1m200/200\u001b[0m \u001b[32m━━━━━━━━━━━━━━━━━━━━\u001b[0m\u001b[37m\u001b[0m \u001b[1m1s\u001b[0m 2ms/step - loss: 0.0050 - mae: 0.0332 - val_loss: 8.5229e-05 - val_mae: 0.0066\n",
      "Epoch 2/500\n",
      "\u001b[1m200/200\u001b[0m \u001b[32m━━━━━━━━━━━━━━━━━━━━\u001b[0m\u001b[37m\u001b[0m \u001b[1m0s\u001b[0m 2ms/step - loss: 2.7428e-05 - mae: 0.0034 - val_loss: 6.4287e-06 - val_mae: 0.0020\n",
      "Epoch 3/500\n",
      "\u001b[1m200/200\u001b[0m \u001b[32m━━━━━━━━━━━━━━━━━━━━\u001b[0m\u001b[37m\u001b[0m \u001b[1m0s\u001b[0m 1ms/step - loss: 5.9874e-06 - mae: 0.0018 - val_loss: 7.2260e-06 - val_mae: 0.0018\n",
      "Epoch 4/500\n",
      "\u001b[1m200/200\u001b[0m \u001b[32m━━━━━━━━━━━━━━━━━━━━\u001b[0m\u001b[37m\u001b[0m \u001b[1m0s\u001b[0m 1ms/step - loss: 3.2256e-05 - mae: 0.0037 - val_loss: 8.6898e-06 - val_mae: 0.0024\n",
      "Epoch 5/500\n",
      "\u001b[1m200/200\u001b[0m \u001b[32m━━━━━━━━━━━━━━━━━━━━\u001b[0m\u001b[37m\u001b[0m \u001b[1m0s\u001b[0m 2ms/step - loss: 1.7381e-05 - mae: 0.0028 - val_loss: 5.5075e-05 - val_mae: 0.0070\n",
      "Epoch 6/500\n",
      "\u001b[1m200/200\u001b[0m \u001b[32m━━━━━━━━━━━━━━━━━━━━\u001b[0m\u001b[37m\u001b[0m \u001b[1m0s\u001b[0m 1ms/step - loss: 4.8479e-05 - mae: 0.0045 - val_loss: 9.4314e-06 - val_mae: 0.0021\n",
      "Epoch 7/500\n",
      "\u001b[1m200/200\u001b[0m \u001b[32m━━━━━━━━━━━━━━━━━━━━\u001b[0m\u001b[37m\u001b[0m \u001b[1m0s\u001b[0m 1ms/step - loss: 3.0393e-04 - mae: 0.0074 - val_loss: 3.4617e-05 - val_mae: 0.0047\n",
      "Epoch 8/500\n",
      "\u001b[1m200/200\u001b[0m \u001b[32m━━━━━━━━━━━━━━━━━━━━\u001b[0m\u001b[37m\u001b[0m \u001b[1m0s\u001b[0m 2ms/step - loss: 1.9215e-05 - mae: 0.0033 - val_loss: 4.0490e-06 - val_mae: 0.0016\n",
      "Epoch 9/500\n",
      "\u001b[1m200/200\u001b[0m \u001b[32m━━━━━━━━━━━━━━━━━━━━\u001b[0m\u001b[37m\u001b[0m \u001b[1m0s\u001b[0m 2ms/step - loss: 4.4563e-06 - mae: 0.0016 - val_loss: 1.5878e-06 - val_mae: 9.9710e-04\n",
      "Epoch 10/500\n",
      "\u001b[1m200/200\u001b[0m \u001b[32m━━━━━━━━━━━━━━━━━━━━\u001b[0m\u001b[37m\u001b[0m \u001b[1m0s\u001b[0m 1ms/step - loss: 2.6811e-06 - mae: 0.0012 - val_loss: 1.1421e-06 - val_mae: 8.4745e-04\n",
      "Epoch 11/500\n",
      "\u001b[1m200/200\u001b[0m \u001b[32m━━━━━━━━━━━━━━━━━━━━\u001b[0m\u001b[37m\u001b[0m \u001b[1m0s\u001b[0m 2ms/step - loss: 1.6851e-06 - mae: 9.8032e-04 - val_loss: 1.1516e-06 - val_mae: 8.3444e-04\n",
      "Epoch 12/500\n",
      "\u001b[1m200/200\u001b[0m \u001b[32m━━━━━━━━━━━━━━━━━━━━\u001b[0m\u001b[37m\u001b[0m \u001b[1m0s\u001b[0m 2ms/step - loss: 1.3787e-06 - mae: 8.8190e-04 - val_loss: 2.0811e-06 - val_mae: 0.0010\n",
      "Epoch 13/500\n",
      "\u001b[1m200/200\u001b[0m \u001b[32m━━━━━━━━━━━━━━━━━━━━\u001b[0m\u001b[37m\u001b[0m \u001b[1m0s\u001b[0m 1ms/step - loss: 1.1473e-06 - mae: 8.0873e-04 - val_loss: 6.3864e-07 - val_mae: 6.0015e-04\n",
      "Epoch 14/500\n",
      "\u001b[1m200/200\u001b[0m \u001b[32m━━━━━━━━━━━━━━━━━━━━\u001b[0m\u001b[37m\u001b[0m \u001b[1m0s\u001b[0m 1ms/step - loss: 1.0823e-06 - mae: 7.8205e-04 - val_loss: 5.7711e-07 - val_mae: 5.7912e-04\n",
      "Epoch 15/500\n",
      "\u001b[1m200/200\u001b[0m \u001b[32m━━━━━━━━━━━━━━━━━━━━\u001b[0m\u001b[37m\u001b[0m \u001b[1m0s\u001b[0m 1ms/step - loss: 9.8626e-07 - mae: 7.4958e-04 - val_loss: 1.0830e-06 - val_mae: 8.5234e-04\n",
      "Epoch 16/500\n",
      "\u001b[1m200/200\u001b[0m \u001b[32m━━━━━━━━━━━━━━━━━━━━\u001b[0m\u001b[37m\u001b[0m \u001b[1m0s\u001b[0m 2ms/step - loss: 1.1199e-06 - mae: 8.0684e-04 - val_loss: 1.5954e-06 - val_mae: 9.4356e-04\n",
      "Epoch 17/500\n",
      "\u001b[1m200/200\u001b[0m \u001b[32m━━━━━━━━━━━━━━━━━━━━\u001b[0m\u001b[37m\u001b[0m \u001b[1m0s\u001b[0m 1ms/step - loss: 1.7908e-06 - mae: 9.9366e-04 - val_loss: 6.7562e-07 - val_mae: 6.4779e-04\n",
      "Epoch 18/500\n",
      "\u001b[1m200/200\u001b[0m \u001b[32m━━━━━━━━━━━━━━━━━━━━\u001b[0m\u001b[37m\u001b[0m \u001b[1m0s\u001b[0m 2ms/step - loss: 1.0340e-06 - mae: 7.4705e-04 - val_loss: 1.4226e-05 - val_mae: 0.0027\n",
      "Epoch 19/500\n",
      "\u001b[1m200/200\u001b[0m \u001b[32m━━━━━━━━━━━━━━━━━━━━\u001b[0m\u001b[37m\u001b[0m \u001b[1m0s\u001b[0m 1ms/step - loss: 5.9627e-05 - mae: 0.0047 - val_loss: 4.8252e-05 - val_mae: 0.0056\n",
      "Epoch 20/500\n",
      "\u001b[1m200/200\u001b[0m \u001b[32m━━━━━━━━━━━━━━━━━━━━\u001b[0m\u001b[37m\u001b[0m \u001b[1m0s\u001b[0m 1ms/step - loss: 2.7021e-05 - mae: 0.0036 - val_loss: 1.7375e-06 - val_mae: 9.8995e-04\n",
      "Epoch 21/500\n",
      "\u001b[1m200/200\u001b[0m \u001b[32m━━━━━━━━━━━━━━━━━━━━\u001b[0m\u001b[37m\u001b[0m \u001b[1m0s\u001b[0m 1ms/step - loss: 4.8181e-06 - mae: 0.0015 - val_loss: 1.7798e-06 - val_mae: 0.0010\n",
      "Epoch 22/500\n",
      "\u001b[1m200/200\u001b[0m \u001b[32m━━━━━━━━━━━━━━━━━━━━\u001b[0m\u001b[37m\u001b[0m \u001b[1m0s\u001b[0m 1ms/step - loss: 1.4656e-06 - mae: 9.1836e-04 - val_loss: 3.0608e-06 - val_mae: 0.0012\n",
      "Epoch 23/500\n",
      "\u001b[1m200/200\u001b[0m \u001b[32m━━━━━━━━━━━━━━━━━━━━\u001b[0m\u001b[37m\u001b[0m \u001b[1m0s\u001b[0m 1ms/step - loss: 4.2685e-06 - mae: 0.0015 - val_loss: 5.2321e-07 - val_mae: 5.4043e-04\n",
      "Epoch 24/500\n",
      "\u001b[1m200/200\u001b[0m \u001b[32m━━━━━━━━━━━━━━━━━━━━\u001b[0m\u001b[37m\u001b[0m \u001b[1m0s\u001b[0m 1ms/step - loss: 8.7488e-07 - mae: 7.0876e-04 - val_loss: 5.5695e-07 - val_mae: 5.5298e-04\n",
      "Epoch 25/500\n",
      "\u001b[1m200/200\u001b[0m \u001b[32m━━━━━━━━━━━━━━━━━━━━\u001b[0m\u001b[37m\u001b[0m \u001b[1m0s\u001b[0m 1ms/step - loss: 6.5658e-07 - mae: 6.1565e-04 - val_loss: 5.9103e-07 - val_mae: 6.0419e-04\n",
      "Epoch 26/500\n",
      "\u001b[1m200/200\u001b[0m \u001b[32m━━━━━━━━━━━━━━━━━━━━\u001b[0m\u001b[37m\u001b[0m \u001b[1m0s\u001b[0m 1ms/step - loss: 5.5742e-05 - mae: 0.0034 - val_loss: 1.9425e-04 - val_mae: 0.0120\n",
      "Epoch 27/500\n",
      "\u001b[1m200/200\u001b[0m \u001b[32m━━━━━━━━━━━━━━━━━━━━\u001b[0m\u001b[37m\u001b[0m \u001b[1m0s\u001b[0m 1ms/step - loss: 6.0664e-05 - mae: 0.0048 - val_loss: 8.3651e-07 - val_mae: 6.7922e-04\n",
      "Epoch 28/500\n",
      "\u001b[1m200/200\u001b[0m \u001b[32m━━━━━━━━━━━━━━━━━━━━\u001b[0m\u001b[37m\u001b[0m \u001b[1m0s\u001b[0m 2ms/step - loss: 1.2101e-06 - mae: 7.8906e-04 - val_loss: 7.6183e-07 - val_mae: 6.6008e-04\n",
      "Epoch 29/500\n",
      "\u001b[1m200/200\u001b[0m \u001b[32m━━━━━━━━━━━━━━━━━━━━\u001b[0m\u001b[37m\u001b[0m \u001b[1m0s\u001b[0m 1ms/step - loss: 7.7130e-07 - mae: 6.5122e-04 - val_loss: 6.8113e-07 - val_mae: 6.3223e-04\n",
      "Epoch 30/500\n",
      "\u001b[1m200/200\u001b[0m \u001b[32m━━━━━━━━━━━━━━━━━━━━\u001b[0m\u001b[37m\u001b[0m \u001b[1m0s\u001b[0m 1ms/step - loss: 5.1716e-07 - mae: 5.4216e-04 - val_loss: 5.7989e-07 - val_mae: 5.9445e-04\n",
      "Epoch 31/500\n",
      "\u001b[1m200/200\u001b[0m \u001b[32m━━━━━━━━━━━━━━━━━━━━\u001b[0m\u001b[37m\u001b[0m \u001b[1m0s\u001b[0m 2ms/step - loss: 5.0944e-07 - mae: 5.2203e-04 - val_loss: 3.1015e-07 - val_mae: 4.1582e-04\n",
      "Epoch 32/500\n",
      "\u001b[1m200/200\u001b[0m \u001b[32m━━━━━━━━━━━━━━━━━━━━\u001b[0m\u001b[37m\u001b[0m \u001b[1m0s\u001b[0m 2ms/step - loss: 4.4594e-07 - mae: 4.8049e-04 - val_loss: 3.6025e-07 - val_mae: 4.5153e-04\n",
      "Epoch 33/500\n",
      "\u001b[1m200/200\u001b[0m \u001b[32m━━━━━━━━━━━━━━━━━━━━\u001b[0m\u001b[37m\u001b[0m \u001b[1m0s\u001b[0m 1ms/step - loss: 8.2611e-07 - mae: 6.3844e-04 - val_loss: 4.6472e-07 - val_mae: 5.6449e-04\n",
      "Epoch 34/500\n",
      "\u001b[1m200/200\u001b[0m \u001b[32m━━━━━━━━━━━━━━━━━━━━\u001b[0m\u001b[37m\u001b[0m \u001b[1m0s\u001b[0m 1ms/step - loss: 3.7461e-07 - mae: 4.4785e-04 - val_loss: 3.5611e-07 - val_mae: 4.1909e-04\n",
      "Epoch 35/500\n",
      "\u001b[1m200/200\u001b[0m \u001b[32m━━━━━━━━━━━━━━━━━━━━\u001b[0m\u001b[37m\u001b[0m \u001b[1m0s\u001b[0m 1ms/step - loss: 4.1977e-07 - mae: 4.8512e-04 - val_loss: 1.4916e-06 - val_mae: 8.6645e-04\n",
      "Epoch 36/500\n",
      "\u001b[1m200/200\u001b[0m \u001b[32m━━━━━━━━━━━━━━━━━━━━\u001b[0m\u001b[37m\u001b[0m \u001b[1m0s\u001b[0m 2ms/step - loss: 5.8237e-07 - mae: 5.3295e-04 - val_loss: 4.2912e-07 - val_mae: 4.7235e-04\n",
      "Epoch 37/500\n",
      "\u001b[1m200/200\u001b[0m \u001b[32m━━━━━━━━━━━━━━━━━━━━\u001b[0m\u001b[37m\u001b[0m \u001b[1m0s\u001b[0m 2ms/step - loss: 1.1240e-06 - mae: 7.4083e-04 - val_loss: 4.0108e-07 - val_mae: 4.3480e-04\n",
      "Epoch 38/500\n",
      "\u001b[1m200/200\u001b[0m \u001b[32m━━━━━━━━━━━━━━━━━━━━\u001b[0m\u001b[37m\u001b[0m \u001b[1m0s\u001b[0m 1ms/step - loss: 4.2408e-07 - mae: 4.8230e-04 - val_loss: 5.4888e-07 - val_mae: 5.5490e-04\n",
      "Epoch 39/500\n",
      "\u001b[1m200/200\u001b[0m \u001b[32m━━━━━━━━━━━━━━━━━━━━\u001b[0m\u001b[37m\u001b[0m \u001b[1m0s\u001b[0m 2ms/step - loss: 1.8003e-06 - mae: 9.1447e-04 - val_loss: 1.8774e-07 - val_mae: 3.1018e-04\n",
      "Epoch 40/500\n",
      "\u001b[1m200/200\u001b[0m \u001b[32m━━━━━━━━━━━━━━━━━━━━\u001b[0m\u001b[37m\u001b[0m \u001b[1m0s\u001b[0m 2ms/step - loss: 5.9704e-07 - mae: 5.5527e-04 - val_loss: 2.4225e-06 - val_mae: 0.0013\n",
      "Epoch 41/500\n",
      "\u001b[1m200/200\u001b[0m \u001b[32m━━━━━━━━━━━━━━━━━━━━\u001b[0m\u001b[37m\u001b[0m \u001b[1m0s\u001b[0m 1ms/step - loss: 3.6379e-05 - mae: 0.0035 - val_loss: 8.1024e-06 - val_mae: 0.0020\n",
      "Epoch 42/500\n",
      "\u001b[1m200/200\u001b[0m \u001b[32m━━━━━━━━━━━━━━━━━━━━\u001b[0m\u001b[37m\u001b[0m \u001b[1m0s\u001b[0m 1ms/step - loss: 3.2785e-05 - mae: 0.0037 - val_loss: 1.2393e-06 - val_mae: 8.8590e-04\n",
      "Epoch 43/500\n",
      "\u001b[1m200/200\u001b[0m \u001b[32m━━━━━━━━━━━━━━━━━━━━\u001b[0m\u001b[37m\u001b[0m \u001b[1m0s\u001b[0m 2ms/step - loss: 1.1224e-06 - mae: 7.7399e-04 - val_loss: 9.1922e-07 - val_mae: 6.7951e-04\n",
      "Epoch 44/500\n",
      "\u001b[1m200/200\u001b[0m \u001b[32m━━━━━━━━━━━━━━━━━━━━\u001b[0m\u001b[37m\u001b[0m \u001b[1m0s\u001b[0m 1ms/step - loss: 5.2971e-07 - mae: 5.0826e-04 - val_loss: 2.9428e-07 - val_mae: 4.0763e-04\n",
      "Epoch 45/500\n",
      "\u001b[1m200/200\u001b[0m \u001b[32m━━━━━━━━━━━━━━━━━━━━\u001b[0m\u001b[37m\u001b[0m \u001b[1m0s\u001b[0m 1ms/step - loss: 3.5727e-07 - mae: 4.3053e-04 - val_loss: 2.3596e-07 - val_mae: 3.5800e-04\n",
      "Epoch 46/500\n",
      "\u001b[1m200/200\u001b[0m \u001b[32m━━━━━━━━━━━━━━━━━━━━\u001b[0m\u001b[37m\u001b[0m \u001b[1m0s\u001b[0m 1ms/step - loss: 3.5179e-07 - mae: 4.3363e-04 - val_loss: 3.5465e-07 - val_mae: 4.4664e-04\n",
      "Epoch 47/500\n",
      "\u001b[1m200/200\u001b[0m \u001b[32m━━━━━━━━━━━━━━━━━━━━\u001b[0m\u001b[37m\u001b[0m \u001b[1m0s\u001b[0m 1ms/step - loss: 1.3021e-06 - mae: 7.8804e-04 - val_loss: 2.2666e-06 - val_mae: 8.1416e-04\n",
      "Epoch 48/500\n",
      "\u001b[1m200/200\u001b[0m \u001b[32m━━━━━━━━━━━━━━━━━━━━\u001b[0m\u001b[37m\u001b[0m \u001b[1m0s\u001b[0m 1ms/step - loss: 2.6483e-05 - mae: 0.0033 - val_loss: 1.0211e-06 - val_mae: 7.5563e-04\n",
      "Epoch 49/500\n",
      "\u001b[1m200/200\u001b[0m \u001b[32m━━━━━━━━━━━━━━━━━━━━\u001b[0m\u001b[37m\u001b[0m \u001b[1m0s\u001b[0m 1ms/step - loss: 4.0150e-07 - mae: 4.7155e-04 - val_loss: 3.5360e-07 - val_mae: 4.1653e-04\n",
      "Epoch 50/500\n",
      "\u001b[1m200/200\u001b[0m \u001b[32m━━━━━━━━━━━━━━━━━━━━\u001b[0m\u001b[37m\u001b[0m \u001b[1m0s\u001b[0m 1ms/step - loss: 3.9365e-07 - mae: 4.3888e-04 - val_loss: 9.5516e-06 - val_mae: 0.0028\n",
      "Epoch 51/500\n",
      "\u001b[1m200/200\u001b[0m \u001b[32m━━━━━━━━━━━━━━━━━━━━\u001b[0m\u001b[37m\u001b[0m \u001b[1m0s\u001b[0m 1ms/step - loss: 3.9256e-06 - mae: 0.0014 - val_loss: 1.5668e-07 - val_mae: 2.8364e-04\n",
      "Epoch 52/500\n",
      "\u001b[1m200/200\u001b[0m \u001b[32m━━━━━━━━━━━━━━━━━━━━\u001b[0m\u001b[37m\u001b[0m \u001b[1m0s\u001b[0m 2ms/step - loss: 1.8447e-06 - mae: 8.6375e-04 - val_loss: 1.7780e-07 - val_mae: 2.9914e-04\n",
      "Epoch 53/500\n",
      "\u001b[1m200/200\u001b[0m \u001b[32m━━━━━━━━━━━━━━━━━━━━\u001b[0m\u001b[37m\u001b[0m \u001b[1m0s\u001b[0m 1ms/step - loss: 3.5905e-07 - mae: 4.3168e-04 - val_loss: 1.9485e-07 - val_mae: 3.1537e-04\n",
      "Epoch 54/500\n",
      "\u001b[1m200/200\u001b[0m \u001b[32m━━━━━━━━━━━━━━━━━━━━\u001b[0m\u001b[37m\u001b[0m \u001b[1m0s\u001b[0m 1ms/step - loss: 1.4701e-06 - mae: 7.7867e-04 - val_loss: 4.6071e-07 - val_mae: 5.3946e-04\n",
      "Epoch 55/500\n",
      "\u001b[1m200/200\u001b[0m \u001b[32m━━━━━━━━━━━━━━━━━━━━\u001b[0m\u001b[37m\u001b[0m \u001b[1m0s\u001b[0m 1ms/step - loss: 8.7445e-06 - mae: 0.0017 - val_loss: 6.6006e-07 - val_mae: 6.3313e-04\n",
      "Epoch 56/500\n",
      "\u001b[1m200/200\u001b[0m \u001b[32m━━━━━━━━━━━━━━━━━━━━\u001b[0m\u001b[37m\u001b[0m \u001b[1m0s\u001b[0m 2ms/step - loss: 1.0706e-06 - mae: 7.0936e-04 - val_loss: 1.5920e-07 - val_mae: 2.7360e-04\n",
      "Epoch 57/500\n",
      "\u001b[1m200/200\u001b[0m \u001b[32m━━━━━━━━━━━━━━━━━━━━\u001b[0m\u001b[37m\u001b[0m \u001b[1m0s\u001b[0m 1ms/step - loss: 2.1445e-07 - mae: 3.2773e-04 - val_loss: 2.5366e-07 - val_mae: 3.7949e-04\n",
      "Epoch 58/500\n",
      "\u001b[1m200/200\u001b[0m \u001b[32m━━━━━━━━━━━━━━━━━━━━\u001b[0m\u001b[37m\u001b[0m \u001b[1m0s\u001b[0m 1ms/step - loss: 3.0359e-07 - mae: 3.8814e-04 - val_loss: 9.2280e-07 - val_mae: 6.9713e-04\n",
      "Epoch 59/500\n",
      "\u001b[1m200/200\u001b[0m \u001b[32m━━━━━━━━━━━━━━━━━━━━\u001b[0m\u001b[37m\u001b[0m \u001b[1m0s\u001b[0m 1ms/step - loss: 4.1016e-06 - mae: 9.5584e-04 - val_loss: 2.6492e-05 - val_mae: 0.0040\n",
      "Epoch 60/500\n",
      "\u001b[1m200/200\u001b[0m \u001b[32m━━━━━━━━━━━━━━━━━━━━\u001b[0m\u001b[37m\u001b[0m \u001b[1m0s\u001b[0m 2ms/step - loss: 8.8902e-06 - mae: 0.0019 - val_loss: 1.9537e-07 - val_mae: 3.0819e-04\n",
      "Epoch 61/500\n",
      "\u001b[1m200/200\u001b[0m \u001b[32m━━━━━━━━━━━━━━━━━━━━\u001b[0m\u001b[37m\u001b[0m \u001b[1m0s\u001b[0m 2ms/step - loss: 2.5358e-07 - mae: 3.5541e-04 - val_loss: 1.6006e-07 - val_mae: 2.9498e-04\n",
      "Epoch 62/500\n",
      "\u001b[1m200/200\u001b[0m \u001b[32m━━━━━━━━━━━━━━━━━━━━\u001b[0m\u001b[37m\u001b[0m \u001b[1m0s\u001b[0m 1ms/step - loss: 1.7776e-07 - mae: 3.0194e-04 - val_loss: 1.6591e-07 - val_mae: 2.9485e-04\n",
      "Epoch 63/500\n",
      "\u001b[1m200/200\u001b[0m \u001b[32m━━━━━━━━━━━━━━━━━━━━\u001b[0m\u001b[37m\u001b[0m \u001b[1m0s\u001b[0m 1ms/step - loss: 1.4063e-07 - mae: 2.6890e-04 - val_loss: 4.1367e-07 - val_mae: 4.1716e-04\n",
      "Epoch 64/500\n",
      "\u001b[1m200/200\u001b[0m \u001b[32m━━━━━━━━━━━━━━━━━━━━\u001b[0m\u001b[37m\u001b[0m \u001b[1m0s\u001b[0m 1ms/step - loss: 1.7672e-07 - mae: 3.0150e-04 - val_loss: 1.6928e-07 - val_mae: 3.3356e-04\n",
      "Epoch 65/500\n",
      "\u001b[1m200/200\u001b[0m \u001b[32m━━━━━━━━━━━━━━━━━━━━\u001b[0m\u001b[37m\u001b[0m \u001b[1m0s\u001b[0m 2ms/step - loss: 2.1552e-07 - mae: 3.5379e-04 - val_loss: 9.7164e-08 - val_mae: 2.1701e-04\n",
      "Epoch 66/500\n",
      "\u001b[1m200/200\u001b[0m \u001b[32m━━━━━━━━━━━━━━━━━━━━\u001b[0m\u001b[37m\u001b[0m \u001b[1m0s\u001b[0m 1ms/step - loss: 3.1482e-07 - mae: 4.0314e-04 - val_loss: 4.7423e-07 - val_mae: 5.5389e-04\n",
      "Epoch 67/500\n",
      "\u001b[1m200/200\u001b[0m \u001b[32m━━━━━━━━━━━━━━━━━━━━\u001b[0m\u001b[37m\u001b[0m \u001b[1m0s\u001b[0m 1ms/step - loss: 4.8874e-07 - mae: 5.0723e-04 - val_loss: 1.0542e-07 - val_mae: 2.3911e-04\n",
      "Epoch 68/500\n",
      "\u001b[1m200/200\u001b[0m \u001b[32m━━━━━━━━━━━━━━━━━━━━\u001b[0m\u001b[37m\u001b[0m \u001b[1m0s\u001b[0m 2ms/step - loss: 2.2968e-07 - mae: 3.4713e-04 - val_loss: 9.5996e-08 - val_mae: 2.2244e-04\n",
      "Epoch 69/500\n",
      "\u001b[1m200/200\u001b[0m \u001b[32m━━━━━━━━━━━━━━━━━━━━\u001b[0m\u001b[37m\u001b[0m \u001b[1m0s\u001b[0m 1ms/step - loss: 1.1735e-07 - mae: 2.4109e-04 - val_loss: 5.3782e-07 - val_mae: 5.4801e-04\n",
      "Epoch 70/500\n",
      "\u001b[1m200/200\u001b[0m \u001b[32m━━━━━━━━━━━━━━━━━━━━\u001b[0m\u001b[37m\u001b[0m \u001b[1m0s\u001b[0m 1ms/step - loss: 3.0367e-06 - mae: 9.2799e-04 - val_loss: 5.1739e-06 - val_mae: 0.0015\n",
      "Epoch 71/500\n",
      "\u001b[1m200/200\u001b[0m \u001b[32m━━━━━━━━━━━━━━━━━━━━\u001b[0m\u001b[37m\u001b[0m \u001b[1m0s\u001b[0m 1ms/step - loss: 1.8601e-06 - mae: 8.6018e-04 - val_loss: 1.8261e-07 - val_mae: 3.0962e-04\n",
      "Epoch 72/500\n",
      "\u001b[1m200/200\u001b[0m \u001b[32m━━━━━━━━━━━━━━━━━━━━\u001b[0m\u001b[37m\u001b[0m \u001b[1m0s\u001b[0m 1ms/step - loss: 3.6277e-07 - mae: 4.3756e-04 - val_loss: 1.0641e-07 - val_mae: 2.3697e-04\n",
      "Epoch 73/500\n",
      "\u001b[1m200/200\u001b[0m \u001b[32m━━━━━━━━━━━━━━━━━━━━\u001b[0m\u001b[37m\u001b[0m \u001b[1m0s\u001b[0m 1ms/step - loss: 1.4657e-07 - mae: 2.7871e-04 - val_loss: 1.1172e-07 - val_mae: 2.4085e-04\n",
      "Epoch 74/500\n",
      "\u001b[1m200/200\u001b[0m \u001b[32m━━━━━━━━━━━━━━━━━━━━\u001b[0m\u001b[37m\u001b[0m \u001b[1m0s\u001b[0m 2ms/step - loss: 1.4644e-07 - mae: 2.6794e-04 - val_loss: 2.3750e-07 - val_mae: 3.4486e-04\n",
      "Epoch 75/500\n",
      "\u001b[1m200/200\u001b[0m \u001b[32m━━━━━━━━━━━━━━━━━━━━\u001b[0m\u001b[37m\u001b[0m \u001b[1m0s\u001b[0m 1ms/step - loss: 4.8890e-07 - mae: 5.0658e-04 - val_loss: 8.3548e-06 - val_mae: 0.0016\n",
      "Epoch 76/500\n",
      "\u001b[1m200/200\u001b[0m \u001b[32m━━━━━━━━━━━━━━━━━━━━\u001b[0m\u001b[37m\u001b[0m \u001b[1m0s\u001b[0m 2ms/step - loss: 2.7489e-06 - mae: 0.0011 - val_loss: 9.2980e-08 - val_mae: 2.1259e-04\n",
      "Epoch 77/500\n",
      "\u001b[1m200/200\u001b[0m \u001b[32m━━━━━━━━━━━━━━━━━━━━\u001b[0m\u001b[37m\u001b[0m \u001b[1m0s\u001b[0m 1ms/step - loss: 1.2287e-07 - mae: 2.5396e-04 - val_loss: 3.5210e-06 - val_mae: 0.0012\n",
      "Epoch 78/500\n",
      "\u001b[1m200/200\u001b[0m \u001b[32m━━━━━━━━━━━━━━━━━━━━\u001b[0m\u001b[37m\u001b[0m \u001b[1m0s\u001b[0m 1ms/step - loss: 1.1678e-06 - mae: 7.3717e-04 - val_loss: 2.6186e-07 - val_mae: 3.1808e-04\n",
      "Epoch 79/500\n",
      "\u001b[1m200/200\u001b[0m \u001b[32m━━━━━━━━━━━━━━━━━━━━\u001b[0m\u001b[37m\u001b[0m \u001b[1m0s\u001b[0m 1ms/step - loss: 2.4143e-07 - mae: 3.1748e-04 - val_loss: 5.3045e-06 - val_mae: 0.0019\n",
      "Epoch 80/500\n",
      "\u001b[1m200/200\u001b[0m \u001b[32m━━━━━━━━━━━━━━━━━━━━\u001b[0m\u001b[37m\u001b[0m \u001b[1m0s\u001b[0m 1ms/step - loss: 4.9105e-06 - mae: 0.0016 - val_loss: 2.5689e-06 - val_mae: 0.0011\n",
      "Epoch 81/500\n",
      "\u001b[1m200/200\u001b[0m \u001b[32m━━━━━━━━━━━━━━━━━━━━\u001b[0m\u001b[37m\u001b[0m \u001b[1m0s\u001b[0m 2ms/step - loss: 1.2632e-06 - mae: 7.2026e-04 - val_loss: 1.9012e-07 - val_mae: 2.9600e-04\n",
      "Epoch 82/500\n",
      "\u001b[1m200/200\u001b[0m \u001b[32m━━━━━━━━━━━━━━━━━━━━\u001b[0m\u001b[37m\u001b[0m \u001b[1m0s\u001b[0m 1ms/step - loss: 1.7891e-07 - mae: 3.0755e-04 - val_loss: 1.7121e-07 - val_mae: 3.2425e-04\n",
      "Epoch 83/500\n",
      "\u001b[1m200/200\u001b[0m \u001b[32m━━━━━━━━━━━━━━━━━━━━\u001b[0m\u001b[37m\u001b[0m \u001b[1m0s\u001b[0m 2ms/step - loss: 1.1679e-07 - mae: 2.4706e-04 - val_loss: 7.7430e-08 - val_mae: 1.9640e-04\n",
      "Epoch 84/500\n",
      "\u001b[1m200/200\u001b[0m \u001b[32m━━━━━━━━━━━━━━━━━━━━\u001b[0m\u001b[37m\u001b[0m \u001b[1m0s\u001b[0m 1ms/step - loss: 8.0601e-08 - mae: 2.0179e-04 - val_loss: 7.9569e-08 - val_mae: 1.9125e-04\n",
      "Epoch 85/500\n",
      "\u001b[1m200/200\u001b[0m \u001b[32m━━━━━━━━━━━━━━━━━━━━\u001b[0m\u001b[37m\u001b[0m \u001b[1m0s\u001b[0m 1ms/step - loss: 3.1625e-06 - mae: 9.7556e-04 - val_loss: 9.5814e-08 - val_mae: 2.2920e-04\n",
      "Epoch 86/500\n",
      "\u001b[1m200/200\u001b[0m \u001b[32m━━━━━━━━━━━━━━━━━━━━\u001b[0m\u001b[37m\u001b[0m \u001b[1m0s\u001b[0m 1ms/step - loss: 1.5974e-07 - mae: 2.6957e-04 - val_loss: 1.0014e-07 - val_mae: 2.3682e-04\n",
      "Epoch 87/500\n",
      "\u001b[1m200/200\u001b[0m \u001b[32m━━━━━━━━━━━━━━━━━━━━\u001b[0m\u001b[37m\u001b[0m \u001b[1m0s\u001b[0m 1ms/step - loss: 1.5680e-07 - mae: 2.7476e-04 - val_loss: 1.0737e-07 - val_mae: 2.5282e-04\n",
      "Epoch 88/500\n",
      "\u001b[1m200/200\u001b[0m \u001b[32m━━━━━━━━━━━━━━━━━━━━\u001b[0m\u001b[37m\u001b[0m \u001b[1m0s\u001b[0m 1ms/step - loss: 1.9145e-07 - mae: 3.0824e-04 - val_loss: 8.2153e-08 - val_mae: 2.1497e-04\n",
      "Epoch 89/500\n",
      "\u001b[1m200/200\u001b[0m \u001b[32m━━━━━━━━━━━━━━━━━━━━\u001b[0m\u001b[37m\u001b[0m \u001b[1m0s\u001b[0m 1ms/step - loss: 1.0934e-07 - mae: 2.4395e-04 - val_loss: 5.0917e-07 - val_mae: 6.1229e-04\n",
      "Epoch 90/500\n",
      "\u001b[1m200/200\u001b[0m \u001b[32m━━━━━━━━━━━━━━━━━━━━\u001b[0m\u001b[37m\u001b[0m \u001b[1m0s\u001b[0m 2ms/step - loss: 1.5772e-06 - mae: 8.1651e-04 - val_loss: 2.5852e-06 - val_mae: 0.0015\n",
      "Epoch 91/500\n",
      "\u001b[1m200/200\u001b[0m \u001b[32m━━━━━━━━━━━━━━━━━━━━\u001b[0m\u001b[37m\u001b[0m \u001b[1m0s\u001b[0m 1ms/step - loss: 1.5558e-06 - mae: 7.4690e-04 - val_loss: 2.2099e-07 - val_mae: 4.0744e-04\n",
      "Epoch 92/500\n",
      "\u001b[1m200/200\u001b[0m \u001b[32m━━━━━━━━━━━━━━━━━━━━\u001b[0m\u001b[37m\u001b[0m \u001b[1m0s\u001b[0m 1ms/step - loss: 1.0734e-07 - mae: 2.3728e-04 - val_loss: 1.2202e-07 - val_mae: 2.6617e-04\n",
      "Epoch 93/500\n",
      "\u001b[1m200/200\u001b[0m \u001b[32m━━━━━━━━━━━━━━━━━━━━\u001b[0m\u001b[37m\u001b[0m \u001b[1m0s\u001b[0m 1ms/step - loss: 5.8723e-07 - mae: 5.4354e-04 - val_loss: 9.5123e-08 - val_mae: 2.2177e-04\n",
      "Epoch 94/500\n",
      "\u001b[1m200/200\u001b[0m \u001b[32m━━━━━━━━━━━━━━━━━━━━\u001b[0m\u001b[37m\u001b[0m \u001b[1m0s\u001b[0m 1ms/step - loss: 1.0812e-07 - mae: 2.3329e-04 - val_loss: 7.0406e-08 - val_mae: 1.9143e-04\n",
      "Epoch 95/500\n",
      "\u001b[1m200/200\u001b[0m \u001b[32m━━━━━━━━━━━━━━━━━━━━\u001b[0m\u001b[37m\u001b[0m \u001b[1m0s\u001b[0m 2ms/step - loss: 6.4771e-07 - mae: 5.0945e-04 - val_loss: 4.6265e-07 - val_mae: 5.9535e-04\n",
      "Epoch 96/500\n",
      "\u001b[1m200/200\u001b[0m \u001b[32m━━━━━━━━━━━━━━━━━━━━\u001b[0m\u001b[37m\u001b[0m \u001b[1m0s\u001b[0m 2ms/step - loss: 4.3168e-07 - mae: 4.7352e-04 - val_loss: 3.1262e-07 - val_mae: 4.8654e-04\n",
      "Epoch 97/500\n",
      "\u001b[1m200/200\u001b[0m \u001b[32m━━━━━━━━━━━━━━━━━━━━\u001b[0m\u001b[37m\u001b[0m \u001b[1m0s\u001b[0m 1ms/step - loss: 7.4357e-07 - mae: 5.4116e-04 - val_loss: 8.0169e-08 - val_mae: 2.1186e-04\n",
      "Epoch 98/500\n",
      "\u001b[1m200/200\u001b[0m \u001b[32m━━━━━━━━━━━━━━━━━━━━\u001b[0m\u001b[37m\u001b[0m \u001b[1m0s\u001b[0m 1ms/step - loss: 5.1662e-07 - mae: 4.8001e-04 - val_loss: 5.7863e-07 - val_mae: 6.4977e-04\n",
      "Epoch 99/500\n",
      "\u001b[1m200/200\u001b[0m \u001b[32m━━━━━━━━━━━━━━━━━━━━\u001b[0m\u001b[37m\u001b[0m \u001b[1m0s\u001b[0m 2ms/step - loss: 2.2079e-07 - mae: 3.4902e-04 - val_loss: 6.7096e-08 - val_mae: 1.7747e-04\n",
      "Epoch 100/500\n",
      "\u001b[1m200/200\u001b[0m \u001b[32m━━━━━━━━━━━━━━━━━━━━\u001b[0m\u001b[37m\u001b[0m \u001b[1m0s\u001b[0m 2ms/step - loss: 1.5201e-07 - mae: 2.8017e-04 - val_loss: 7.2859e-08 - val_mae: 1.9180e-04\n",
      "Epoch 101/500\n",
      "\u001b[1m200/200\u001b[0m \u001b[32m━━━━━━━━━━━━━━━━━━━━\u001b[0m\u001b[37m\u001b[0m \u001b[1m0s\u001b[0m 1ms/step - loss: 1.0611e-06 - mae: 6.2612e-04 - val_loss: 1.5666e-06 - val_mae: 8.1204e-04\n",
      "Epoch 102/500\n",
      "\u001b[1m200/200\u001b[0m \u001b[32m━━━━━━━━━━━━━━━━━━━━\u001b[0m\u001b[37m\u001b[0m \u001b[1m0s\u001b[0m 1ms/step - loss: 6.2953e-07 - mae: 4.9737e-04 - val_loss: 2.3609e-07 - val_mae: 3.6784e-04\n",
      "Epoch 103/500\n",
      "\u001b[1m200/200\u001b[0m \u001b[32m━━━━━━━━━━━━━━━━━━━━\u001b[0m\u001b[37m\u001b[0m \u001b[1m0s\u001b[0m 2ms/step - loss: 6.6825e-08 - mae: 1.8108e-04 - val_loss: 5.9584e-08 - val_mae: 1.6942e-04\n",
      "Epoch 104/500\n",
      "\u001b[1m200/200\u001b[0m \u001b[32m━━━━━━━━━━━━━━━━━━━━\u001b[0m\u001b[37m\u001b[0m \u001b[1m0s\u001b[0m 1ms/step - loss: 1.7257e-07 - mae: 2.9441e-04 - val_loss: 1.0123e-07 - val_mae: 2.4871e-04\n",
      "Epoch 105/500\n",
      "\u001b[1m200/200\u001b[0m \u001b[32m━━━━━━━━━━━━━━━━━━━━\u001b[0m\u001b[37m\u001b[0m \u001b[1m0s\u001b[0m 1ms/step - loss: 1.5366e-07 - mae: 2.6859e-04 - val_loss: 2.3772e-06 - val_mae: 0.0011\n",
      "Epoch 106/500\n",
      "\u001b[1m200/200\u001b[0m \u001b[32m━━━━━━━━━━━━━━━━━━━━\u001b[0m\u001b[37m\u001b[0m \u001b[1m0s\u001b[0m 2ms/step - loss: 1.0618e-06 - mae: 6.7574e-04 - val_loss: 5.9754e-08 - val_mae: 1.8107e-04\n",
      "Epoch 107/500\n",
      "\u001b[1m200/200\u001b[0m \u001b[32m━━━━━━━━━━━━━━━━━━━━\u001b[0m\u001b[37m\u001b[0m \u001b[1m0s\u001b[0m 2ms/step - loss: 8.9490e-08 - mae: 1.8925e-04 - val_loss: 1.4609e-06 - val_mae: 0.0011\n",
      "Epoch 108/500\n",
      "\u001b[1m200/200\u001b[0m \u001b[32m━━━━━━━━━━━━━━━━━━━━\u001b[0m\u001b[37m\u001b[0m \u001b[1m0s\u001b[0m 1ms/step - loss: 9.8427e-07 - mae: 6.6718e-04 - val_loss: 3.8937e-07 - val_mae: 5.4175e-04\n",
      "Epoch 109/500\n",
      "\u001b[1m200/200\u001b[0m \u001b[32m━━━━━━━━━━━━━━━━━━━━\u001b[0m\u001b[37m\u001b[0m \u001b[1m0s\u001b[0m 1ms/step - loss: 6.3045e-07 - mae: 5.5258e-04 - val_loss: 1.8203e-07 - val_mae: 3.5389e-04\n",
      "Epoch 110/500\n",
      "\u001b[1m200/200\u001b[0m \u001b[32m━━━━━━━━━━━━━━━━━━━━\u001b[0m\u001b[37m\u001b[0m \u001b[1m0s\u001b[0m 2ms/step - loss: 1.0217e-07 - mae: 2.3585e-04 - val_loss: 6.5572e-08 - val_mae: 1.7472e-04\n",
      "Epoch 111/500\n",
      "\u001b[1m200/200\u001b[0m \u001b[32m━━━━━━━━━━━━━━━━━━━━\u001b[0m\u001b[37m\u001b[0m \u001b[1m0s\u001b[0m 1ms/step - loss: 1.5066e-07 - mae: 2.6603e-04 - val_loss: 4.5366e-08 - val_mae: 1.3636e-04\n",
      "Epoch 112/500\n",
      "\u001b[1m200/200\u001b[0m \u001b[32m━━━━━━━━━━━━━━━━━━━━\u001b[0m\u001b[37m\u001b[0m \u001b[1m0s\u001b[0m 1ms/step - loss: 9.2528e-08 - mae: 2.0235e-04 - val_loss: 2.8645e-07 - val_mae: 4.5277e-04\n",
      "Epoch 113/500\n",
      "\u001b[1m200/200\u001b[0m \u001b[32m━━━━━━━━━━━━━━━━━━━━\u001b[0m\u001b[37m\u001b[0m \u001b[1m0s\u001b[0m 2ms/step - loss: 2.2200e-07 - mae: 3.2333e-04 - val_loss: 1.5179e-07 - val_mae: 3.0081e-04\n",
      "Epoch 114/500\n",
      "\u001b[1m200/200\u001b[0m \u001b[32m━━━━━━━━━━━━━━━━━━━━\u001b[0m\u001b[37m\u001b[0m \u001b[1m0s\u001b[0m 2ms/step - loss: 6.8537e-07 - mae: 5.6700e-04 - val_loss: 2.0794e-07 - val_mae: 3.9549e-04\n",
      "Epoch 115/500\n",
      "\u001b[1m200/200\u001b[0m \u001b[32m━━━━━━━━━━━━━━━━━━━━\u001b[0m\u001b[37m\u001b[0m \u001b[1m0s\u001b[0m 1ms/step - loss: 8.7188e-08 - mae: 2.1882e-04 - val_loss: 5.9926e-08 - val_mae: 1.8549e-04\n",
      "Epoch 116/500\n",
      "\u001b[1m200/200\u001b[0m \u001b[32m━━━━━━━━━━━━━━━━━━━━\u001b[0m\u001b[37m\u001b[0m \u001b[1m0s\u001b[0m 1ms/step - loss: 5.8645e-08 - mae: 1.7232e-04 - val_loss: 1.5707e-07 - val_mae: 2.6937e-04\n",
      "Epoch 117/500\n",
      "\u001b[1m200/200\u001b[0m \u001b[32m━━━━━━━━━━━━━━━━━━━━\u001b[0m\u001b[37m\u001b[0m \u001b[1m0s\u001b[0m 2ms/step - loss: 9.3941e-07 - mae: 6.0959e-04 - val_loss: 9.1241e-08 - val_mae: 2.2104e-04\n",
      "Epoch 118/500\n",
      "\u001b[1m200/200\u001b[0m \u001b[32m━━━━━━━━━━━━━━━━━━━━\u001b[0m\u001b[37m\u001b[0m \u001b[1m0s\u001b[0m 2ms/step - loss: 2.1486e-07 - mae: 3.0242e-04 - val_loss: 6.2976e-08 - val_mae: 1.8192e-04\n",
      "Epoch 119/500\n",
      "\u001b[1m200/200\u001b[0m \u001b[32m━━━━━━━━━━━━━━━━━━━━\u001b[0m\u001b[37m\u001b[0m \u001b[1m0s\u001b[0m 1ms/step - loss: 5.1485e-08 - mae: 1.6018e-04 - val_loss: 2.8652e-07 - val_mae: 4.3508e-04\n",
      "Epoch 120/500\n",
      "\u001b[1m200/200\u001b[0m \u001b[32m━━━━━━━━━━━━━━━━━━━━\u001b[0m\u001b[37m\u001b[0m \u001b[1m0s\u001b[0m 1ms/step - loss: 2.0998e-07 - mae: 3.3868e-04 - val_loss: 6.5342e-08 - val_mae: 1.9415e-04\n",
      "Epoch 121/500\n",
      "\u001b[1m200/200\u001b[0m \u001b[32m━━━━━━━━━━━━━━━━━━━━\u001b[0m\u001b[37m\u001b[0m \u001b[1m0s\u001b[0m 2ms/step - loss: 9.3074e-08 - mae: 1.9813e-04 - val_loss: 5.4531e-08 - val_mae: 1.6940e-04\n",
      "Epoch 122/500\n",
      "\u001b[1m200/200\u001b[0m \u001b[32m━━━━━━━━━━━━━━━━━━━━\u001b[0m\u001b[37m\u001b[0m \u001b[1m0s\u001b[0m 2ms/step - loss: 7.2090e-08 - mae: 1.9591e-04 - val_loss: 1.4004e-07 - val_mae: 3.2894e-04\n",
      "Epoch 123/500\n",
      "\u001b[1m200/200\u001b[0m \u001b[32m━━━━━━━━━━━━━━━━━━━━\u001b[0m\u001b[37m\u001b[0m \u001b[1m0s\u001b[0m 2ms/step - loss: 1.3148e-07 - mae: 2.1933e-04 - val_loss: 5.4620e-07 - val_mae: 5.8328e-04\n",
      "Epoch 124/500\n",
      "\u001b[1m200/200\u001b[0m \u001b[32m━━━━━━━━━━━━━━━━━━━━\u001b[0m\u001b[37m\u001b[0m \u001b[1m0s\u001b[0m 2ms/step - loss: 1.6837e-07 - mae: 2.8838e-04 - val_loss: 7.4438e-08 - val_mae: 1.9875e-04\n",
      "Epoch 125/500\n",
      "\u001b[1m200/200\u001b[0m \u001b[32m━━━━━━━━━━━━━━━━━━━━\u001b[0m\u001b[37m\u001b[0m \u001b[1m0s\u001b[0m 2ms/step - loss: 6.9715e-08 - mae: 1.8990e-04 - val_loss: 1.3901e-07 - val_mae: 3.0437e-04\n",
      "Epoch 126/500\n",
      "\u001b[1m200/200\u001b[0m \u001b[32m━━━━━━━━━━━━━━━━━━━━\u001b[0m\u001b[37m\u001b[0m \u001b[1m0s\u001b[0m 1ms/step - loss: 1.3754e-07 - mae: 2.7017e-04 - val_loss: 4.7947e-08 - val_mae: 1.4659e-04\n",
      "Epoch 127/500\n",
      "\u001b[1m200/200\u001b[0m \u001b[32m━━━━━━━━━━━━━━━━━━━━\u001b[0m\u001b[37m\u001b[0m \u001b[1m0s\u001b[0m 1ms/step - loss: 6.8837e-08 - mae: 1.8924e-04 - val_loss: 1.5750e-07 - val_mae: 2.4602e-04\n",
      "Epoch 128/500\n",
      "\u001b[1m200/200\u001b[0m \u001b[32m━━━━━━━━━━━━━━━━━━━━\u001b[0m\u001b[37m\u001b[0m \u001b[1m0s\u001b[0m 1ms/step - loss: 1.3449e-07 - mae: 2.5941e-04 - val_loss: 1.1541e-06 - val_mae: 8.6668e-04\n",
      "Epoch 129/500\n",
      "\u001b[1m200/200\u001b[0m \u001b[32m━━━━━━━━━━━━━━━━━━━━\u001b[0m\u001b[37m\u001b[0m \u001b[1m0s\u001b[0m 2ms/step - loss: 2.8697e-07 - mae: 3.4005e-04 - val_loss: 4.2095e-08 - val_mae: 1.3689e-04\n",
      "Epoch 130/500\n",
      "\u001b[1m200/200\u001b[0m \u001b[32m━━━━━━━━━━━━━━━━━━━━\u001b[0m\u001b[37m\u001b[0m \u001b[1m0s\u001b[0m 2ms/step - loss: 4.0310e-08 - mae: 1.4406e-04 - val_loss: 4.4329e-08 - val_mae: 1.5102e-04\n",
      "Epoch 131/500\n",
      "\u001b[1m200/200\u001b[0m \u001b[32m━━━━━━━━━━━━━━━━━━━━\u001b[0m\u001b[37m\u001b[0m \u001b[1m0s\u001b[0m 2ms/step - loss: 6.6488e-08 - mae: 1.7605e-04 - val_loss: 6.9526e-08 - val_mae: 1.7871e-04\n",
      "Epoch 132/500\n",
      "\u001b[1m200/200\u001b[0m \u001b[32m━━━━━━━━━━━━━━━━━━━━\u001b[0m\u001b[37m\u001b[0m \u001b[1m0s\u001b[0m 2ms/step - loss: 8.4126e-08 - mae: 2.0482e-04 - val_loss: 1.0990e-07 - val_mae: 2.3294e-04\n",
      "Epoch 133/500\n",
      "\u001b[1m200/200\u001b[0m \u001b[32m━━━━━━━━━━━━━━━━━━━━\u001b[0m\u001b[37m\u001b[0m \u001b[1m0s\u001b[0m 1ms/step - loss: 7.7457e-08 - mae: 1.9547e-04 - val_loss: 4.0755e-08 - val_mae: 1.3405e-04\n",
      "Epoch 134/500\n",
      "\u001b[1m200/200\u001b[0m \u001b[32m━━━━━━━━━━━━━━━━━━━━\u001b[0m\u001b[37m\u001b[0m \u001b[1m0s\u001b[0m 1ms/step - loss: 7.3025e-08 - mae: 1.7946e-04 - val_loss: 1.1422e-07 - val_mae: 2.6759e-04\n",
      "Epoch 135/500\n",
      "\u001b[1m200/200\u001b[0m \u001b[32m━━━━━━━━━━━━━━━━━━━━\u001b[0m\u001b[37m\u001b[0m \u001b[1m0s\u001b[0m 2ms/step - loss: 1.4993e-07 - mae: 2.7822e-04 - val_loss: 8.3947e-08 - val_mae: 2.4314e-04\n",
      "Epoch 136/500\n",
      "\u001b[1m200/200\u001b[0m \u001b[32m━━━━━━━━━━━━━━━━━━━━\u001b[0m\u001b[37m\u001b[0m \u001b[1m0s\u001b[0m 1ms/step - loss: 5.1690e-07 - mae: 4.0663e-04 - val_loss: 2.1288e-07 - val_mae: 3.2579e-04\n",
      "Epoch 137/500\n",
      "\u001b[1m200/200\u001b[0m \u001b[32m━━━━━━━━━━━━━━━━━━━━\u001b[0m\u001b[37m\u001b[0m \u001b[1m0s\u001b[0m 2ms/step - loss: 5.2984e-07 - mae: 4.5394e-04 - val_loss: 4.0097e-08 - val_mae: 1.2834e-04\n",
      "Epoch 138/500\n",
      "\u001b[1m157/200\u001b[0m \u001b[32m━━━━━━━━━━━━━━━\u001b[0m\u001b[37m━━━━━\u001b[0m \u001b[1m0s\u001b[0m 996us/step - loss: 2.8922e-08 - mae: 1.1629e-04\n",
      "Reached target mae <= 0 at epoch 138, stopping training\n",
      "\u001b[1m200/200\u001b[0m \u001b[32m━━━━━━━━━━━━━━━━━━━━\u001b[0m\u001b[37m\u001b[0m \u001b[1m0s\u001b[0m 1ms/step - loss: 2.9116e-08 - mae: 1.1579e-04 - val_loss: 3.4875e-08 - val_mae: 1.1044e-04\n",
      "\u001b[1m63/63\u001b[0m \u001b[32m━━━━━━━━━━━━━━━━━━━━\u001b[0m\u001b[37m\u001b[0m \u001b[1m0s\u001b[0m 1ms/step - loss: 3.7713e-08 - mae: 1.0559e-04  \n",
      "Test MAE :  0.00010679082333808765\n"
     ]
    }
   ],
   "source": [
    "model = define_and_compile_model()\n",
    "training_history = model.fit(\n",
    "    X_train, y_train,\n",
    "    epochs = 500,\n",
    "    batch_size = 32,\n",
    "    validation_split = 0.2,\n",
    "    callbacks = [EarlyStopCallback()]\n",
    ")\n",
    "\n",
    "loss, mae = model.evaluate(X_test, y_test)\n",
    "print('Test MAE : ', mae)"
   ]
  },
  {
   "cell_type": "code",
   "execution_count": 15,
   "metadata": {
    "colab": {
     "base_uri": "https://localhost:8080/"
    },
    "id": "2hlVB_BDOWk4",
    "outputId": "3f5e4aa2-9c09-4c2d-e830-ef69555e5f1f"
   },
   "outputs": [
    {
     "name": "stdout",
     "output_type": "stream",
     "text": [
      "\u001b[1m63/63\u001b[0m \u001b[32m━━━━━━━━━━━━━━━━━━━━\u001b[0m\u001b[37m\u001b[0m \u001b[1m0s\u001b[0m 708us/step\n",
      "Test MAE (Original Scale): 3203.712655256474\n"
     ]
    }
   ],
   "source": [
    "y_pred = model.predict(X_test)\n",
    "y_pred_original = scaler_y.inverse_transform(y_pred)\n",
    "y_test_original = scaler_y.inverse_transform(y_test)\n",
    "from sklearn.metrics import mean_absolute_error\n",
    "mae_original = mean_absolute_error(y_test_original, y_pred_original)\n",
    "print('Test MAE (Original Scale):', mae_original)\n"
   ]
  },
  {
   "cell_type": "code",
   "execution_count": 18,
   "metadata": {
    "colab": {
     "base_uri": "https://localhost:8080/",
     "height": 489
    },
    "id": "vZbdPC6GE1Fh",
    "outputId": "89f20066-03a0-4bcf-b441-06cd673fe583"
   },
   "outputs": [
    {
     "name": "stdout",
     "output_type": "stream",
     "text": [
      "\u001b[1m63/63\u001b[0m \u001b[32m━━━━━━━━━━━━━━━━━━━━\u001b[0m\u001b[37m\u001b[0m \u001b[1m0s\u001b[0m 707us/step\n"
     ]
    },
    {
     "data": {
      "image/png": "[encoded data removed]",
      "text/plain": [
       "<Figure size 640x480 with 1 Axes>"
      ]
     },
     "metadata": {},
     "output_type": "display_data"
    }
   ],
   "source": [
    "import matplotlib.pyplot as plt\n",
    "\n",
    "predictions = model.predict(X_test)\n",
    "plt.scatter(y_test, predictions)\n",
    "plt.xlabel('True Values')\n",
    "plt.ylabel('Predictions')\n",
    "plt.title('True vs. Predicted Values')\n",
    "plt.show()"
   ]
  },
  {
   "cell_type": "code",
   "execution_count": 19,
   "metadata": {
    "id": "lI3EX2V1GWrO"
   },
   "outputs": [],
   "source": [
    "import math\n",
    "def rounded_up_to_nearest(vale, base = 100000):\n",
    "  return math.ceil(vale / base) * base\n",
    "\n",
    "def format_currency(value):\n",
    "  return f'Rp{value:,.0f}'.replace(',', '.')"
   ]
  },
  {
   "cell_type": "code",
   "execution_count": 20,
   "metadata": {
    "colab": {
     "base_uri": "https://localhost:8080/"
    },
    "id": "1Syrbc1cIXb7",
    "outputId": "96ad4233-f407-4b88-f6dd-01a2a5058874"
   },
   "outputs": [
    {
     "name": "stdout",
     "output_type": "stream",
     "text": [
      "\u001b[1m1/1\u001b[0m \u001b[32m━━━━━━━━━━━━━━━━━━━━\u001b[0m\u001b[37m\u001b[0m \u001b[1m0s\u001b[0m 35ms/step\n",
      "Dengan melihat tujuan keuangan anda, kami merekomendasikan anda untuk menyisihkan\n",
      "sebesar Rp2.600.000 setiap bulannya.\n"
     ]
    }
   ],
   "source": [
    "# Contoh data baru\n",
    "new_data = {\n",
    "    'goal_amount': 12000000,  # goal_amount\n",
    "    'goal_duration': 4,  # goal_duration\n",
    "    'current_savings': 2000000  # current_savings\n",
    "}\n",
    "\n",
    "# Siapkan array dengan semua fitur\n",
    "new_data_array = np.array([\n",
    "    new_data['goal_amount'],\n",
    "    new_data['goal_duration'],\n",
    "    new_data['current_savings']\n",
    "]).reshape(1, -1)\n",
    "\n",
    "# Normalisasi data\n",
    "new_data_normalized = scaler_X.transform(new_data_array)\n",
    "\n",
    "# Prediksi\n",
    "predicted_normalized = model.predict(new_data_normalized)\n",
    "predicted_original = scaler_y.inverse_transform(predicted_normalized)\n",
    "predicted_roundedup = rounded_up_to_nearest(predicted_original[0][0])\n",
    "predicted_formatted = format_currency(predicted_roundedup)\n",
    "\n",
    "print(\"Dengan melihat tujuan keuangan anda, kami merekomendasikan anda untuk menyisihkan\\nsebesar\", predicted_formatted, \"setiap bulannya.\")\n"
   ]
  },
  {
   "cell_type": "code",
   "execution_count": 21,
   "metadata": {
    "colab": {
     "base_uri": "https://localhost:8080/"
    },
    "id": "85sY_cCFfcfg",
    "outputId": "52f155ea-6833-45e0-8a44-8403be04323b"
   },
   "outputs": [
    {
     "name": "stderr",
     "output_type": "stream",
     "text": [
      "WARNING:absl:You are saving your model as an HDF5 file via `model.save()` or `keras.saving.save_model(model)`. This file format is considered legacy. We recommend using instead the native Keras format, e.g. `model.save('my_model.keras')` or `keras.saving.save_model(model, 'my_model.keras')`. \n"
     ]
    }
   ],
   "source": [
    "model.save(\"financial_goal_model.h5\")"
   ]
  }
 ],
 "metadata": {
  "colab": {
   "provenance": []
  },
  "kernelspec": {
   "display_name": "Python 3",
   "name": "python3"
  },
  "language_info": {
   "codemirror_mode": {
    "name": "ipython",
    "version": 3
   },
   "file_extension": ".py",
   "mimetype": "text/x-python",
   "name": "python",
   "nbconvert_exporter": "python",
   "pygments_lexer": "ipython3",
   "version": "3.12.1"
  }
 },
 "nbformat": 4,
 "nbformat_minor": 0
}
